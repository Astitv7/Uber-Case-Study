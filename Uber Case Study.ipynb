{
 "cells": [
  {
   "cell_type": "markdown",
   "metadata": {},
   "source": [
    "# Project : Uber Supply Demand Gap"
   ]
  },
  {
   "cell_type": "code",
   "execution_count": 1,
   "metadata": {},
   "outputs": [],
   "source": [
    "# import libraries\n",
    "import pandas as pd\n",
    "import numpy as np \n",
    "import seaborn as sns\n",
    "import matplotlib.pyplot as plt\n",
    "%matplotlib inline"
   ]
  },
  {
   "cell_type": "markdown",
   "metadata": {},
   "source": [
    "## Problem Understanding"
   ]
  },
  {
   "cell_type": "markdown",
   "metadata": {},
   "source": [
    "The aim of analysis is to identify the root cause of the problem (i.e. cancellation and non-availability of cars) and recommend ways to improve the situation. As a result of our analysis, we should be able to present to the client the root cause(s) and possible hypotheses of the problem(s) and recommend ways to improve them."
   ]
  },
  {
   "cell_type": "markdown",
   "metadata": {},
   "source": [
    "## Data Understanding"
   ]
  },
  {
   "cell_type": "markdown",
   "metadata": {},
   "source": [
    "There are six attributes associated with each request made by a customer:\n",
    "\n",
    "- **Request id:** A unique identifier of the request\n",
    "- **Time of request:** The date and time at which the customer made the trip request\n",
    "- **Drop-off time:** The drop-off date and time, in case the trip was completed\n",
    "- **Pick-up point:** The point from which the request was made\n",
    "- **Driver id:** The unique identification number of the driver\n",
    "- **Status of the request:** The final status of the trip, that can be either completed, cancelled by the driver or no cars available"
   ]
  },
  {
   "cell_type": "code",
   "execution_count": 2,
   "metadata": {},
   "outputs": [
    {
     "data": {
      "text/html": [
       "<div>\n",
       "<style scoped>\n",
       "    .dataframe tbody tr th:only-of-type {\n",
       "        vertical-align: middle;\n",
       "    }\n",
       "\n",
       "    .dataframe tbody tr th {\n",
       "        vertical-align: top;\n",
       "    }\n",
       "\n",
       "    .dataframe thead th {\n",
       "        text-align: right;\n",
       "    }\n",
       "</style>\n",
       "<table border=\"1\" class=\"dataframe\">\n",
       "  <thead>\n",
       "    <tr style=\"text-align: right;\">\n",
       "      <th></th>\n",
       "      <th>Request id</th>\n",
       "      <th>Pickup point</th>\n",
       "      <th>Driver id</th>\n",
       "      <th>Status</th>\n",
       "      <th>Request timestamp</th>\n",
       "      <th>Drop timestamp</th>\n",
       "    </tr>\n",
       "  </thead>\n",
       "  <tbody>\n",
       "    <tr>\n",
       "      <td>0</td>\n",
       "      <td>619</td>\n",
       "      <td>Airport</td>\n",
       "      <td>1.0</td>\n",
       "      <td>Trip Completed</td>\n",
       "      <td>11-07-2016 11:51</td>\n",
       "      <td>11-07-2016 13:00</td>\n",
       "    </tr>\n",
       "    <tr>\n",
       "      <td>1</td>\n",
       "      <td>867</td>\n",
       "      <td>Airport</td>\n",
       "      <td>1.0</td>\n",
       "      <td>Trip Completed</td>\n",
       "      <td>11-07-2016 17:57</td>\n",
       "      <td>11-07-2016 18:47</td>\n",
       "    </tr>\n",
       "    <tr>\n",
       "      <td>2</td>\n",
       "      <td>1807</td>\n",
       "      <td>City</td>\n",
       "      <td>1.0</td>\n",
       "      <td>Trip Completed</td>\n",
       "      <td>12-07-2016 09:17</td>\n",
       "      <td>12-07-2016 09:58</td>\n",
       "    </tr>\n",
       "    <tr>\n",
       "      <td>3</td>\n",
       "      <td>2532</td>\n",
       "      <td>Airport</td>\n",
       "      <td>1.0</td>\n",
       "      <td>Trip Completed</td>\n",
       "      <td>12-07-2016 21:08</td>\n",
       "      <td>12-07-2016 22:03</td>\n",
       "    </tr>\n",
       "    <tr>\n",
       "      <td>4</td>\n",
       "      <td>3112</td>\n",
       "      <td>City</td>\n",
       "      <td>1.0</td>\n",
       "      <td>Trip Completed</td>\n",
       "      <td>13-07-2016 08:33</td>\n",
       "      <td>13-07-2016 09:25</td>\n",
       "    </tr>\n",
       "  </tbody>\n",
       "</table>\n",
       "</div>"
      ],
      "text/plain": [
       "   Request id Pickup point  Driver id          Status Request timestamp  \\\n",
       "0         619      Airport        1.0  Trip Completed  11-07-2016 11:51   \n",
       "1         867      Airport        1.0  Trip Completed  11-07-2016 17:57   \n",
       "2        1807         City        1.0  Trip Completed  12-07-2016 09:17   \n",
       "3        2532      Airport        1.0  Trip Completed  12-07-2016 21:08   \n",
       "4        3112         City        1.0  Trip Completed  13-07-2016 08:33   \n",
       "\n",
       "     Drop timestamp  \n",
       "0  11-07-2016 13:00  \n",
       "1  11-07-2016 18:47  \n",
       "2  12-07-2016 09:58  \n",
       "3  12-07-2016 22:03  \n",
       "4  13-07-2016 09:25  "
      ]
     },
     "execution_count": 2,
     "metadata": {},
     "output_type": "execute_result"
    }
   ],
   "source": [
    "# Load and read the uber dataset\n",
    "uber = pd.read_csv(\"Uber Request Data.csv\")\n",
    "uber.head()"
   ]
  },
  {
   "cell_type": "code",
   "execution_count": 3,
   "metadata": {},
   "outputs": [
    {
     "data": {
      "text/plain": [
       "1.0        13\n",
       "2.0        13\n",
       "3.0        14\n",
       "4.0        15\n",
       "5.0        13\n",
       "         ... \n",
       "297.0      15\n",
       "298.0      15\n",
       "299.0      12\n",
       "300.0       6\n",
       "NaN      2650\n",
       "Name: Driver id, Length: 301, dtype: int64"
      ]
     },
     "execution_count": 3,
     "metadata": {},
     "output_type": "execute_result"
    }
   ],
   "source": [
    "uber['Driver id'].value_counts(dropna = False).sort_index()"
   ]
  },
  {
   "cell_type": "code",
   "execution_count": 4,
   "metadata": {},
   "outputs": [
    {
     "data": {
      "text/plain": [
       "(6745, 6)"
      ]
     },
     "execution_count": 4,
     "metadata": {},
     "output_type": "execute_result"
    }
   ],
   "source": [
    "# check the no. the rows and columns of the dataset\n",
    "uber.shape"
   ]
  },
  {
   "cell_type": "code",
   "execution_count": 5,
   "metadata": {},
   "outputs": [
    {
     "data": {
      "text/plain": [
       "Request id             int64\n",
       "Pickup point          object\n",
       "Driver id            float64\n",
       "Status                object\n",
       "Request timestamp     object\n",
       "Drop timestamp        object\n",
       "dtype: object"
      ]
     },
     "execution_count": 5,
     "metadata": {},
     "output_type": "execute_result"
    }
   ],
   "source": [
    "# check the datatype of each column\n",
    "uber.dtypes"
   ]
  },
  {
   "cell_type": "code",
   "execution_count": 6,
   "metadata": {},
   "outputs": [],
   "source": [
    "# change the datatype of 'Request timestamp' and 'Drop timestamp' from object to datetime.\n",
    "uber['Request timestamp'] = pd.to_datetime(uber['Request timestamp'])\n",
    "uber['Drop timestamp'] = pd.to_datetime(uber['Drop timestamp'])"
   ]
  },
  {
   "cell_type": "code",
   "execution_count": 7,
   "metadata": {},
   "outputs": [
    {
     "data": {
      "text/plain": [
       "Request id                    int64\n",
       "Pickup point                 object\n",
       "Driver id                   float64\n",
       "Status                       object\n",
       "Request timestamp    datetime64[ns]\n",
       "Drop timestamp       datetime64[ns]\n",
       "dtype: object"
      ]
     },
     "execution_count": 7,
     "metadata": {},
     "output_type": "execute_result"
    }
   ],
   "source": [
    "uber.dtypes"
   ]
  },
  {
   "cell_type": "code",
   "execution_count": 8,
   "metadata": {},
   "outputs": [
    {
     "data": {
      "text/plain": [
       "0"
      ]
     },
     "execution_count": 8,
     "metadata": {},
     "output_type": "execute_result"
    }
   ],
   "source": [
    "# check for the duplicated \"Request id\" .....('Request id' should be unique for each request made by customer.)\n",
    "uber['Request id'].duplicated().sum()"
   ]
  },
  {
   "cell_type": "code",
   "execution_count": 9,
   "metadata": {},
   "outputs": [
    {
     "data": {
      "text/plain": [
       "Request id              0\n",
       "Pickup point            0\n",
       "Driver id            2650\n",
       "Status                  0\n",
       "Request timestamp       0\n",
       "Drop timestamp       3914\n",
       "dtype: int64"
      ]
     },
     "execution_count": 9,
     "metadata": {},
     "output_type": "execute_result"
    }
   ],
   "source": [
    "# check the no. of missing value.\n",
    "uber.isna().sum()"
   ]
  },
  {
   "cell_type": "code",
   "execution_count": 10,
   "metadata": {},
   "outputs": [
    {
     "data": {
      "text/plain": [
       "Request id            0.000000\n",
       "Pickup point          0.000000\n",
       "Driver id            39.288362\n",
       "Status                0.000000\n",
       "Request timestamp     0.000000\n",
       "Drop timestamp       58.028169\n",
       "dtype: float64"
      ]
     },
     "execution_count": 10,
     "metadata": {},
     "output_type": "execute_result"
    }
   ],
   "source": [
    "# check the % of NAN values columnwise\n",
    "(uber.isna().sum()/uber.shape[0])*100"
   ]
  },
  {
   "cell_type": "code",
   "execution_count": 11,
   "metadata": {},
   "outputs": [
    {
     "data": {
      "text/plain": [
       "<matplotlib.axes._subplots.AxesSubplot at 0x205c7e88888>"
      ]
     },
     "execution_count": 11,
     "metadata": {},
     "output_type": "execute_result"
    },
    {
     "data": {
      "image/png": "[encoded data removed]",
      "text/plain": [
       "<Figure size 432x288 with 1 Axes>"
      ]
     },
     "metadata": {
      "needs_background": "light"
     },
     "output_type": "display_data"
    }
   ],
   "source": [
    "# check the missing value using Heatmap\n",
    "sns.heatmap(uber.isna(),yticklabels = False, cbar = False,cmap = 'viridis' )"
   ]
  },
  {
   "cell_type": "markdown",
   "metadata": {},
   "source": [
    "**Inference**\n",
    "- More than 55% of Drop time is null because of Cancelled Trips(No cars available + Cancelled by the driver), which makes sense.\n",
    "- Around 40% of Driver Id is null because of Cancelled Trips(No cars available), which makes sense."
   ]
  },
  {
   "cell_type": "code",
   "execution_count": 12,
   "metadata": {},
   "outputs": [
    {
     "name": "stdout",
     "output_type": "stream",
     "text": [
      "2016    6745\n",
      "Name: Request timestamp, dtype: int64\n",
      "----------------------------------------\n",
      "7     4071\n",
      "11    1367\n",
      "12    1307\n",
      "Name: Request timestamp, dtype: int64\n",
      "----------------------------------------\n",
      "2016-07-15    1381\n",
      "2016-11-07    1367\n",
      "2016-07-14    1353\n",
      "2016-07-13    1337\n",
      "2016-12-07    1307\n",
      "Name: Request timestamp, dtype: int64\n",
      "----------------------------------------\n",
      "Wednesday    2644\n",
      "Friday       1381\n",
      "Monday       1367\n",
      "Thursday     1353\n",
      "Name: Request timestamp, dtype: int64\n"
     ]
    }
   ],
   "source": [
    "# checking the year, month, date,weekday name present in our dataset\n",
    "print(uber['Request timestamp'].dt.year.value_counts())\n",
    "print('-'*40)\n",
    "print(uber['Request timestamp'].dt.month.value_counts())\n",
    "print('-'*40)\n",
    "print(uber['Request timestamp'].dt.date.value_counts())\n",
    "print('-'*40)\n",
    "print(uber['Request timestamp'].dt.weekday_name.value_counts())"
   ]
  },
  {
   "cell_type": "code",
   "execution_count": 13,
   "metadata": {},
   "outputs": [
    {
     "data": {
      "text/plain": [
       "Text(0.5, 1, 'Status')"
      ]
     },
     "execution_count": 13,
     "metadata": {},
     "output_type": "execute_result"
    },
    {
     "data": {
      "image/png": "[encoded data removed]",
      "text/plain": [
       "<Figure size 360x360 with 1 Axes>"
      ]
     },
     "metadata": {
      "needs_background": "light"
     },
     "output_type": "display_data"
    }
   ],
   "source": [
    "#checking the Status \n",
    "sns.catplot(x = 'Status',kind = 'count',data = uber)\n",
    "plt.title('Status')"
   ]
  },
  {
   "cell_type": "markdown",
   "metadata": {},
   "source": [
    "**We can clearly see from this plot that Uber is losing quite a lot of business due to shortage of available Cabs. The question that surfaces now is at what times during the day is the supply and demand gap most severe and if that is different for different days in the week**"
   ]
  },
  {
   "cell_type": "code",
   "execution_count": 14,
   "metadata": {},
   "outputs": [],
   "source": [
    "# extract the date, time\n",
    "uber['Request date'] = uber['Request timestamp'].dt.date\n",
    "uber['Request hour'] = uber['Request timestamp'].dt.hour\n",
    "uber['Drop date'] = uber['Drop timestamp'].dt.date\n",
    "uber['Drop hour'] = uber['Drop timestamp'].dt.hour\n",
    "uber['Request weekday'] = uber['Request timestamp'].dt.weekday_name"
   ]
  },
  {
   "cell_type": "code",
   "execution_count": 15,
   "metadata": {},
   "outputs": [
    {
     "data": {
      "text/html": [
       "<div>\n",
       "<style scoped>\n",
       "    .dataframe tbody tr th:only-of-type {\n",
       "        vertical-align: middle;\n",
       "    }\n",
       "\n",
       "    .dataframe tbody tr th {\n",
       "        vertical-align: top;\n",
       "    }\n",
       "\n",
       "    .dataframe thead th {\n",
       "        text-align: right;\n",
       "    }\n",
       "</style>\n",
       "<table border=\"1\" class=\"dataframe\">\n",
       "  <thead>\n",
       "    <tr style=\"text-align: right;\">\n",
       "      <th></th>\n",
       "      <th>Request id</th>\n",
       "      <th>Pickup point</th>\n",
       "      <th>Driver id</th>\n",
       "      <th>Status</th>\n",
       "      <th>Request timestamp</th>\n",
       "      <th>Drop timestamp</th>\n",
       "      <th>Request date</th>\n",
       "      <th>Request hour</th>\n",
       "      <th>Drop date</th>\n",
       "      <th>Drop hour</th>\n",
       "      <th>Request weekday</th>\n",
       "    </tr>\n",
       "  </thead>\n",
       "  <tbody>\n",
       "    <tr>\n",
       "      <td>0</td>\n",
       "      <td>619</td>\n",
       "      <td>Airport</td>\n",
       "      <td>1.0</td>\n",
       "      <td>Trip Completed</td>\n",
       "      <td>2016-11-07 11:51:00</td>\n",
       "      <td>2016-11-07 13:00:00</td>\n",
       "      <td>2016-11-07</td>\n",
       "      <td>11</td>\n",
       "      <td>2016-11-07</td>\n",
       "      <td>13.0</td>\n",
       "      <td>Monday</td>\n",
       "    </tr>\n",
       "    <tr>\n",
       "      <td>1</td>\n",
       "      <td>867</td>\n",
       "      <td>Airport</td>\n",
       "      <td>1.0</td>\n",
       "      <td>Trip Completed</td>\n",
       "      <td>2016-11-07 17:57:00</td>\n",
       "      <td>2016-11-07 18:47:00</td>\n",
       "      <td>2016-11-07</td>\n",
       "      <td>17</td>\n",
       "      <td>2016-11-07</td>\n",
       "      <td>18.0</td>\n",
       "      <td>Monday</td>\n",
       "    </tr>\n",
       "    <tr>\n",
       "      <td>2</td>\n",
       "      <td>1807</td>\n",
       "      <td>City</td>\n",
       "      <td>1.0</td>\n",
       "      <td>Trip Completed</td>\n",
       "      <td>2016-12-07 09:17:00</td>\n",
       "      <td>2016-12-07 09:58:00</td>\n",
       "      <td>2016-12-07</td>\n",
       "      <td>9</td>\n",
       "      <td>2016-12-07</td>\n",
       "      <td>9.0</td>\n",
       "      <td>Wednesday</td>\n",
       "    </tr>\n",
       "    <tr>\n",
       "      <td>3</td>\n",
       "      <td>2532</td>\n",
       "      <td>Airport</td>\n",
       "      <td>1.0</td>\n",
       "      <td>Trip Completed</td>\n",
       "      <td>2016-12-07 21:08:00</td>\n",
       "      <td>2016-12-07 22:03:00</td>\n",
       "      <td>2016-12-07</td>\n",
       "      <td>21</td>\n",
       "      <td>2016-12-07</td>\n",
       "      <td>22.0</td>\n",
       "      <td>Wednesday</td>\n",
       "    </tr>\n",
       "    <tr>\n",
       "      <td>4</td>\n",
       "      <td>3112</td>\n",
       "      <td>City</td>\n",
       "      <td>1.0</td>\n",
       "      <td>Trip Completed</td>\n",
       "      <td>2016-07-13 08:33:00</td>\n",
       "      <td>2016-07-13 09:25:00</td>\n",
       "      <td>2016-07-13</td>\n",
       "      <td>8</td>\n",
       "      <td>2016-07-13</td>\n",
       "      <td>9.0</td>\n",
       "      <td>Wednesday</td>\n",
       "    </tr>\n",
       "  </tbody>\n",
       "</table>\n",
       "</div>"
      ],
      "text/plain": [
       "   Request id Pickup point  Driver id          Status   Request timestamp  \\\n",
       "0         619      Airport        1.0  Trip Completed 2016-11-07 11:51:00   \n",
       "1         867      Airport        1.0  Trip Completed 2016-11-07 17:57:00   \n",
       "2        1807         City        1.0  Trip Completed 2016-12-07 09:17:00   \n",
       "3        2532      Airport        1.0  Trip Completed 2016-12-07 21:08:00   \n",
       "4        3112         City        1.0  Trip Completed 2016-07-13 08:33:00   \n",
       "\n",
       "       Drop timestamp Request date  Request hour   Drop date  Drop hour  \\\n",
       "0 2016-11-07 13:00:00   2016-11-07            11  2016-11-07       13.0   \n",
       "1 2016-11-07 18:47:00   2016-11-07            17  2016-11-07       18.0   \n",
       "2 2016-12-07 09:58:00   2016-12-07             9  2016-12-07        9.0   \n",
       "3 2016-12-07 22:03:00   2016-12-07            21  2016-12-07       22.0   \n",
       "4 2016-07-13 09:25:00   2016-07-13             8  2016-07-13        9.0   \n",
       "\n",
       "  Request weekday  \n",
       "0          Monday  \n",
       "1          Monday  \n",
       "2       Wednesday  \n",
       "3       Wednesday  \n",
       "4       Wednesday  "
      ]
     },
     "execution_count": 15,
     "metadata": {},
     "output_type": "execute_result"
    }
   ],
   "source": [
    "uber.head()"
   ]
  },
  {
   "cell_type": "code",
   "execution_count": 16,
   "metadata": {
    "scrolled": false
   },
   "outputs": [
    {
     "name": "stderr",
     "output_type": "stream",
     "text": [
      "C:\\Users\\user\\Anaconda3\\lib\\site-packages\\seaborn\\categorical.py:3666: UserWarning: The `factorplot` function has been renamed to `catplot`. The original name will be removed in a future release. Please update your code. Note that the default `kind` in `factorplot` (`'point'`) has changed `'strip'` in `catplot`.\n",
      "  warnings.warn(msg)\n"
     ]
    },
    {
     "data": {
      "text/plain": [
       "<seaborn.axisgrid.FacetGrid at 0x205c8197e08>"
      ]
     },
     "execution_count": 16,
     "metadata": {},
     "output_type": "execute_result"
    },
    {
     "data": {
      "image/png": "[encoded data removed]",
      "text/plain": [
       "<Figure size 484.125x1800 with 5 Axes>"
      ]
     },
     "metadata": {
      "needs_background": "light"
     },
     "output_type": "display_data"
    }
   ],
   "source": [
    "# factorplot of 'Request hour' and 'Request date' w.r.t to 'Status'\n",
    "sns.factorplot(x = 'Request hour',hue = 'Status', row = 'Request date', kind = 'count', data = uber)"
   ]
  },
  {
   "cell_type": "code",
   "execution_count": 17,
   "metadata": {
    "scrolled": false
   },
   "outputs": [
    {
     "data": {
      "text/plain": [
       "<seaborn.axisgrid.FacetGrid at 0x205c8b9f948>"
      ]
     },
     "execution_count": 17,
     "metadata": {},
     "output_type": "execute_result"
    },
    {
     "data": {
      "image/png": "[encoded data removed]",
      "text/plain": [
       "<Figure size 430.125x1800 with 5 Axes>"
      ]
     },
     "metadata": {
      "needs_background": "light"
     },
     "output_type": "display_data"
    }
   ],
   "source": [
    "# factorplot of 'Request hour' and 'Request' w.r.t 'Pickup poiint'\n",
    "sns.factorplot(x= 'Request hour', hue = 'Pickup point', row = 'Request date', kind = 'count', data = uber)"
   ]
  },
  {
   "cell_type": "code",
   "execution_count": 18,
   "metadata": {},
   "outputs": [
    {
     "data": {
      "text/plain": [
       "<seaborn.axisgrid.FacetGrid at 0x205c939d808>"
      ]
     },
     "execution_count": 18,
     "metadata": {},
     "output_type": "execute_result"
    },
    {
     "data": {
      "image/png": "[encoded data removed]",
      "text/plain": [
       "<Figure size 430.125x360 with 1 Axes>"
      ]
     },
     "metadata": {
      "needs_background": "light"
     },
     "output_type": "display_data"
    }
   ],
   "source": [
    "# aggregate count plot for all days w.r.t 'Pickup Point'\n",
    "sns.factorplot(x= 'Request hour', hue = 'Pickup point', kind = 'count', data = uber)"
   ]
  },
  {
   "cell_type": "code",
   "execution_count": 19,
   "metadata": {},
   "outputs": [],
   "source": [
    "# creating time slot for various time period of day\n",
    "def time_period(x):\n",
    "    if x < 5:\n",
    "        return 'Pre Morning'\n",
    "    elif 5 <= x < 10:\n",
    "        return 'Morning rush'\n",
    "    elif 10 <= x < 17:\n",
    "        return 'Day time'\n",
    "    elif 17 <= x < 22:\n",
    "        return 'Evening rush'\n",
    "    else:\n",
    "        return 'Late night'\n",
    "    "
   ]
  },
  {
   "cell_type": "code",
   "execution_count": 20,
   "metadata": {},
   "outputs": [],
   "source": [
    "# apply the above function to all the rows of 'Request hour' column.\n",
    "uber['time slot'] = uber['Request hour'].apply(lambda x: time_period(x))"
   ]
  },
  {
   "cell_type": "code",
   "execution_count": 21,
   "metadata": {},
   "outputs": [
    {
     "data": {
      "text/plain": [
       "Evening rush    2342\n",
       "Morning rush    2103\n",
       "Day time        1224\n",
       "Pre Morning      578\n",
       "Late night       498\n",
       "Name: time slot, dtype: int64"
      ]
     },
     "execution_count": 21,
     "metadata": {},
     "output_type": "execute_result"
    }
   ],
   "source": [
    "uber['time slot'].value_counts()"
   ]
  },
  {
   "cell_type": "code",
   "execution_count": 22,
   "metadata": {},
   "outputs": [
    {
     "data": {
      "text/plain": [
       "<seaborn.axisgrid.FacetGrid at 0x205c988aac8>"
      ]
     },
     "execution_count": 22,
     "metadata": {},
     "output_type": "execute_result"
    },
    {
     "data": {
      "text/plain": [
       "<Figure size 1440x432 with 0 Axes>"
      ]
     },
     "metadata": {},
     "output_type": "display_data"
    },
    {
     "data": {
      "image/png": "[encoded data removed]",
      "text/plain": [
       "<Figure size 844.125x360 with 1 Axes>"
      ]
     },
     "metadata": {
      "needs_background": "light"
     },
     "output_type": "display_data"
    }
   ],
   "source": [
    "plt.figure(figsize = (20,6))\n",
    "sns.catplot(x = 'time slot', hue = 'Status',kind = 'count', data = uber,aspect = 2)"
   ]
  },
  {
   "cell_type": "markdown",
   "metadata": {},
   "source": [
    "## Lets look at the supply and demand at Morning rush hour"
   ]
  },
  {
   "cell_type": "code",
   "execution_count": 23,
   "metadata": {},
   "outputs": [],
   "source": [
    "morning_rush  = uber[uber['time slot'] == 'Morning rush']"
   ]
  },
  {
   "cell_type": "code",
   "execution_count": 24,
   "metadata": {},
   "outputs": [
    {
     "data": {
      "text/plain": [
       "<seaborn.axisgrid.FacetGrid at 0x205c960d888>"
      ]
     },
     "execution_count": 24,
     "metadata": {},
     "output_type": "execute_result"
    },
    {
     "data": {
      "image/png": "[encoded data removed]",
      "text/plain": [
       "<Figure size 484.125x360 with 1 Axes>"
      ]
     },
     "metadata": {
      "needs_background": "light"
     },
     "output_type": "display_data"
    }
   ],
   "source": [
    "sns.catplot(x= 'Pickup point', hue = 'Status', kind = 'count', data = morning_rush)"
   ]
  },
  {
   "cell_type": "code",
   "execution_count": 25,
   "metadata": {},
   "outputs": [
    {
     "name": "stdout",
     "output_type": "stream",
     "text": [
      "Cab Requirement at City during Morning rush : 1677\n",
      "Cab Requirement at Airport during Morning rush : 426\n"
     ]
    }
   ],
   "source": [
    "# DEMAND\n",
    "print('Cab Requirement at City during Morning rush :' ,morning_rush[morning_rush['Pickup point'] == 'City'].shape[0])\n",
    "print('Cab Requirement at Airport during Morning rush :' ,morning_rush[morning_rush['Pickup point'] == 'Airport'].shape[0])"
   ]
  },
  {
   "cell_type": "code",
   "execution_count": 26,
   "metadata": {},
   "outputs": [
    {
     "name": "stdout",
     "output_type": "stream",
     "text": [
      "City Morning Trip Completed : 472\n",
      "Airport Morning Trip Completed : 382\n"
     ]
    }
   ],
   "source": [
    "# SUPPLY\n",
    "print('City Morning Trip Completed :' ,morning_rush.loc[(morning_rush['Pickup point'] == 'City') & (morning_rush['Status'] == \n",
    "                                 'Trip Completed'), :].shape[0])\n",
    "\n",
    "print('Airport Morning Trip Completed :' ,morning_rush.loc[(morning_rush['Pickup point'] == 'Airport') & (morning_rush['Status'] \n",
    "                                        == 'Trip Completed'), :].shape[0])"
   ]
  },
  {
   "cell_type": "code",
   "execution_count": 27,
   "metadata": {},
   "outputs": [
    {
     "name": "stdout",
     "output_type": "stream",
     "text": [
      "City trip cancelled during morning rush : 820\n",
      "Airport trip cancelled during morning rush : 23\n"
     ]
    }
   ],
   "source": [
    "# cancellation of cab as per the pickup location during morning rush\n",
    "city_cancel_mor = morning_rush.loc[(morning_rush['Pickup point'] == 'City') & (morning_rush['Status'] == 'Cancelled'),:]\n",
    "print('City trip cancelled during morning rush :', city_cancel_mor.shape[0])\n",
    "\n",
    "airport_cancel_mor = morning_rush.loc[(morning_rush['Pickup point'] == 'Airport') & (morning_rush['Status'] == 'Cancelled'),:]\n",
    "print('Airport trip cancelled during morning rush :', airport_cancel_mor.shape[0])"
   ]
  },
  {
   "cell_type": "code",
   "execution_count": 28,
   "metadata": {},
   "outputs": [
    {
     "name": "stdout",
     "output_type": "stream",
     "text": [
      "Cab Unavailability during morning rush at City : 385\n",
      "Cab Unavailability during morning rush at Airport : 21\n"
     ]
    }
   ],
   "source": [
    "# Unavailability of cabs as per the pickup loation during morning rush\n",
    "city_unaval_mor = morning_rush.loc[(morning_rush['Pickup point'] == 'City') & (morning_rush['Status'] == 'No Cars Available'),:]\n",
    "print('Cab Unavailability during morning rush at City :', city_unaval_mor.shape[0])\n",
    "\n",
    "airport_unaval_mor = morning_rush.loc[(morning_rush['Pickup point'] == 'Airport') & (morning_rush['Status'] == \n",
    "                                    'No Cars Available'),:]\n",
    "print('Cab Unavailability during morning rush at Airport :', airport_unaval_mor.shape[0])"
   ]
  },
  {
   "cell_type": "markdown",
   "metadata": {},
   "source": [
    "## Lets look at the Supply and Demand Gap at Evening rush hour"
   ]
  },
  {
   "cell_type": "code",
   "execution_count": 29,
   "metadata": {},
   "outputs": [],
   "source": [
    "evening_rush = uber[uber['time slot'] == 'Evening rush']"
   ]
  },
  {
   "cell_type": "code",
   "execution_count": 30,
   "metadata": {},
   "outputs": [
    {
     "data": {
      "text/plain": [
       "<seaborn.axisgrid.FacetGrid at 0x205c983e5c8>"
      ]
     },
     "execution_count": 30,
     "metadata": {},
     "output_type": "execute_result"
    },
    {
     "data": {
      "image/png": "[encoded data removed]",
      "text/plain": [
       "<Figure size 484.125x360 with 1 Axes>"
      ]
     },
     "metadata": {
      "needs_background": "light"
     },
     "output_type": "display_data"
    }
   ],
   "source": [
    "sns.catplot(x = 'Pickup point', hue = 'Status', kind = 'count', data = evening_rush)"
   ]
  },
  {
   "cell_type": "code",
   "execution_count": 31,
   "metadata": {},
   "outputs": [
    {
     "name": "stdout",
     "output_type": "stream",
     "text": [
      "Cab Requirement at City during Evening rush : 542\n",
      "Cab Requirement at Airport during Evening rush : 1800\n"
     ]
    }
   ],
   "source": [
    "# DEMAND\n",
    "print('Cab Requirement at City during Evening rush :', evening_rush[evening_rush['Pickup point'] == 'City'].shape[0])\n",
    "\n",
    "print('Cab Requirement at Airport during Evening rush :', evening_rush[evening_rush['Pickup point'] == 'Airport'].shape[0])"
   ]
  },
  {
   "cell_type": "code",
   "execution_count": 32,
   "metadata": {},
   "outputs": [
    {
     "name": "stdout",
     "output_type": "stream",
     "text": [
      " City Evening Trip Completed  : 411\n",
      " Airport Evening Trip Completed  : 373\n"
     ]
    }
   ],
   "source": [
    "# SUPPLY\n",
    "print(' City Evening Trip Completed  :', evening_rush[(evening_rush['Pickup point'] == 'City') & \n",
    "                                        (evening_rush['Status'] == 'Trip Completed')].shape[0])\n",
    "\n",
    "print(' Airport Evening Trip Completed  :', evening_rush[(evening_rush['Pickup point'] == 'Airport') & \n",
    "                                        (evening_rush['Status'] == 'Trip Completed')].shape[0])"
   ]
  },
  {
   "cell_type": "code",
   "execution_count": 33,
   "metadata": {},
   "outputs": [
    {
     "name": "stdout",
     "output_type": "stream",
     "text": [
      "City trip cancelled during evening rush : 60\n",
      "Airport trip cancelled during evening rush : 106\n"
     ]
    }
   ],
   "source": [
    "# cancellation of cab as per the pickup location during evening rush\n",
    "city_cancel_eve = evening_rush[(evening_rush['Pickup point'] == 'City') & (evening_rush['Status'] == 'Cancelled')]\n",
    "print('City trip cancelled during evening rush :', city_cancel_eve.shape[0])\n",
    "\n",
    "airport_cancel_eve = evening_rush[(evening_rush['Pickup point'] == 'Airport') & (evening_rush['Status'] == 'Cancelled')]\n",
    "print('Airport trip cancelled during evening rush :', airport_cancel_eve.shape[0])"
   ]
  },
  {
   "cell_type": "code",
   "execution_count": 34,
   "metadata": {},
   "outputs": [
    {
     "name": "stdout",
     "output_type": "stream",
     "text": [
      "Cab Unavailability during evening rush at City : 71\n",
      "Cab Unavailability during evening rush at Airport : 1321\n"
     ]
    }
   ],
   "source": [
    "# Unavailability of cabs as per the pickup loation during evening rush\n",
    "city_unaval_eve = evening_rush[(evening_rush['Pickup point'] == 'City') & (evening_rush['Status'] == 'No Cars Available')]\n",
    "print('Cab Unavailability during evening rush at City :', city_unaval_eve.shape[0])\n",
    "\n",
    "airport_unaval_eve = evening_rush[(evening_rush['Pickup point'] == 'Airport') & (evening_rush['Status'] == \n",
    "                                    'No Cars Available')]\n",
    "print('Cab Unavailability during evening rush at Airport :', airport_unaval_eve.shape[0])"
   ]
  },
  {
   "cell_type": "markdown",
   "metadata": {},
   "source": [
    "## Pie Charts"
   ]
  },
  {
   "cell_type": "code",
   "execution_count": 35,
   "metadata": {},
   "outputs": [
    {
     "data": {
      "text/plain": [
       "Cancelled            0.488968\n",
       "Trip Completed       0.281455\n",
       "No Cars Available    0.229577\n",
       "Name: Status, dtype: float64"
      ]
     },
     "execution_count": 35,
     "metadata": {},
     "output_type": "execute_result"
    }
   ],
   "source": [
    "# percentage breakup of status on the basis of pickup location('City') in morning rush\n",
    "uber[(uber['Pickup point'] == 'City') & (uber['time slot'] == 'Morning rush')]['Status'].value_counts(normalize = True)"
   ]
  },
  {
   "cell_type": "code",
   "execution_count": 36,
   "metadata": {},
   "outputs": [
    {
     "data": {
      "text/plain": [
       "<matplotlib.axes._subplots.AxesSubplot at 0x205c9765248>"
      ]
     },
     "execution_count": 36,
     "metadata": {},
     "output_type": "execute_result"
    },
    {
     "data": {
      "image/png": "[encoded data removed]",
      "text/plain": [
       "<Figure size 432x288 with 1 Axes>"
      ]
     },
     "metadata": {},
     "output_type": "display_data"
    }
   ],
   "source": [
    "# pie chart of Status of trips @ Morning Rush where pickup point is City\n",
    "uber[(uber['Pickup point'] == 'City') & (uber['time slot'] == 'Morning rush')]['Status'].value_counts(normalize = True).plot(kind = 'pie',autopct='%1.1f%%')"
   ]
  },
  {
   "cell_type": "code",
   "execution_count": 37,
   "metadata": {},
   "outputs": [
    {
     "data": {
      "text/plain": [
       "No Cars Available    0.733889\n",
       "Trip Completed       0.207222\n",
       "Cancelled            0.058889\n",
       "Name: Status, dtype: float64"
      ]
     },
     "execution_count": 37,
     "metadata": {},
     "output_type": "execute_result"
    }
   ],
   "source": [
    "# percentage breakup of status on the basis of pickup location('Airport') in evening rush\n",
    "uber[(uber['Pickup point'] == 'Airport') & (uber['time slot'] == 'Evening rush')]['Status'].value_counts(normalize = True)"
   ]
  },
  {
   "cell_type": "code",
   "execution_count": 38,
   "metadata": {},
   "outputs": [
    {
     "data": {
      "text/plain": [
       "<matplotlib.axes._subplots.AxesSubplot at 0x205c96dd348>"
      ]
     },
     "execution_count": 38,
     "metadata": {},
     "output_type": "execute_result"
    },
    {
     "data": {
      "image/png": "[encoded data removed]",
      "text/plain": [
       "<Figure size 432x288 with 1 Axes>"
      ]
     },
     "metadata": {},
     "output_type": "display_data"
    }
   ],
   "source": [
    "# pie chart of --Status of trips @ Evening Rush where pickup point is Airport\n",
    "uber[(uber['Pickup point'] == 'Airport') & (uber['time slot'] == 'Evening rush')]['Status'].value_counts(normalize = True).plot(kind = 'pie',autopct='%1.1f%%')"
   ]
  },
  {
   "cell_type": "markdown",
   "metadata": {},
   "source": [
    "# Recommendations"
   ]
  },
  {
   "cell_type": "markdown",
   "metadata": {},
   "source": [
    "- **For the trips in the morning,** drivers can be incentivised to make those trips.\n",
    "  - They could be given a bonus for each trip they complete from the city to the airport in the morning  rush. This will      ensure that less number of trips are cancelled.\n",
    "  - Uber can pay for the gas mileage of drivers to come back to the city without a ride.\n",
    "  - Uber can increase the demand at the airport to reduce idle time – by increased marketing and price  cuts for the passengers\n",
    "- **For the evening, since the number of drivers is less, some of the ways are:**\n",
    "  - Drivers can again be given a bonus to complete a trip from the airport in the evening. This will ensure  that the supply increases at the airport.\n",
    "  - Uber can also pay drivers to come without a passenger to the airport\n",
    "  - Another innovative way can be to pool the rides of passengers so that lesser number of cars can  serve more passengers.\n"
   ]
  },
  {
   "cell_type": "code",
   "execution_count": null,
   "metadata": {},
   "outputs": [],
   "source": []
  },
  {
   "cell_type": "code",
   "execution_count": null,
   "metadata": {},
   "outputs": [],
   "source": []
  }
 ],
 "metadata": {
  "kernelspec": {
   "display_name": "Python 3",
   "language": "python",
   "name": "python3"
  },
  "language_info": {
   "codemirror_mode": {
    "name": "ipython",
    "version": 3
   },
   "file_extension": ".py",
   "mimetype": "text/x-python",
   "name": "python",
   "nbconvert_exporter": "python",
   "pygments_lexer": "ipython3",
   "version": "3.7.4"
  }
 },
 "nbformat": 4,
 "nbformat_minor": 2
}
